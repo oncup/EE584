{
 "cells": [
  {
   "cell_type": "markdown",
   "id": "c0139cc1",
   "metadata": {},
   "source": [
    "# Exploratory Data Analysis (EDA) for ASAP-Review Dataset"
   ]
  },
  {
   "cell_type": "code",
   "execution_count": 3,
   "id": "2b9ba92e",
   "metadata": {},
   "outputs": [
    {
     "ename": "ModuleNotFoundError",
     "evalue": "No module named 'pandas'",
     "output_type": "error",
     "traceback": [
      "\u001b[31m---------------------------------------------------------------------------\u001b[39m",
      "\u001b[31mModuleNotFoundError\u001b[39m                       Traceback (most recent call last)",
      "\u001b[36mCell\u001b[39m\u001b[36m \u001b[39m\u001b[32mIn[3]\u001b[39m\u001b[32m, line 2\u001b[39m\n\u001b[32m      1\u001b[39m \u001b[38;5;66;03m# lib\u001b[39;00m\n\u001b[32m----> \u001b[39m\u001b[32m2\u001b[39m \u001b[38;5;28;01mimport\u001b[39;00m\u001b[38;5;250m \u001b[39m\u001b[34;01mpandas\u001b[39;00m\u001b[38;5;250m \u001b[39m\u001b[38;5;28;01mas\u001b[39;00m\u001b[38;5;250m \u001b[39m\u001b[34;01mpd\u001b[39;00m\n\u001b[32m      4\u001b[39m \u001b[38;5;66;03m# Upload dataset\u001b[39;00m\n\u001b[32m      5\u001b[39m \u001b[38;5;28;01mtry\u001b[39;00m:\n",
      "\u001b[31mModuleNotFoundError\u001b[39m: No module named 'pandas'"
     ]
    }
   ],
   "source": [
    "# lib\n",
    "import pandas as pd\n",
    "\n",
    "# Upload dataset\n",
    "try:\n",
    "    df = pd.read_csv('asap_reviews.csv')\n",
    "except FileNotFoundError:\n",
    "    print(\"Dataset not found. Creating a dummy DataFrame for demonstration.\")\n",
    "    data = {\n",
    "        'review_text': [\n",
    "            \"This paper proposes a novel method. It is motivated by previous failures. The main claim is strong. Experiments support the claim.\",\n",
    "            \"A significant contribution. Minor motivation. Weak claims. No experimental support.\"\n",
    "        ],\n",
    "        'Contribution': [1, 1],\n",
    "        'Motivation': [1, 1],\n",
    "        'Claims': [1, 1],\n",
    "        'Support': [1, 0],\n",
    "        'acceptance': [1, 0]\n",
    "    }\n",
    "    df = pd.DataFrame(data)\n",
    "\n",
    "df.head()\n"
   ]
  },
  {
   "cell_type": "markdown",
   "id": "6289feed",
   "metadata": {},
   "source": [
    "## Descriptive Statistics"
   ]
  },
  {
   "cell_type": "code",
   "execution_count": null,
   "id": "2a63ade8",
   "metadata": {},
   "outputs": [],
   "source": [
    "# Number of reviews\n",
    "print(\"Number of reviews:\", len(df))\n",
    "\n",
    "# Average review length\n",
    "avg_len = df['review_text'].apply(lambda x: len(x.split())).mean()\n",
    "print(\"Average review length (words):\", avg_len)\n",
    "\n",
    "# Aspect rate\n",
    "aspects = ['Contribution', 'Motivation', 'Claims', 'Support']\n",
    "for aspect in aspects:\n",
    "    rate = (df[aspect] == 1).mean() * 100\n",
    "    print(f\"{aspect} presence rate: {rate:.2f}%\")\n",
    "\n",
    "# Acceptance rate\n",
    "acceptance_rate = (df['acceptance'] == 1).mean() * 100\n",
    "print(\"Acceptance rate:\", acceptance_rate)\n"
   ]
  },
  {
   "cell_type": "markdown",
   "id": "8396f330",
   "metadata": {},
   "source": [
    "## Profiling Results"
   ]
  },
  {
   "cell_type": "code",
   "execution_count": null,
   "id": "ea7752fd",
   "metadata": {},
   "outputs": [],
   "source": [
    "\n",
    "both_contrib_motiv = df[(df['Contribution'] == 1) & (df['Motivation'] == 1)]\n",
    "print(\"Acceptance rate when Contribution and Motivation are both present:\", (both_contrib_motiv['acceptance'] == 1).mean() * 100)\n",
    "\n",
    "# only claims\n",
    "only_claims = df[(df['Claims'] == 1) & (df['Contribution'] == 0) & (df['Motivation'] == 0)]\n",
    "if not only_claims.empty:\n",
    "    print(\"Acceptance rate when only Claims are present:\", (only_claims['acceptance'] == 1).mean() * 100)\n",
    "else:\n",
    "    print(\"No reviews with only Claims present in this dataset.\")\n"
   ]
  }
 ],
 "metadata": {
  "kernelspec": {
   "display_name": "Python 3",
   "language": "python",
   "name": "python3"
  },
  "language_info": {
   "codemirror_mode": {
    "name": "ipython",
    "version": 3
   },
   "file_extension": ".py",
   "mimetype": "text/x-python",
   "name": "python",
   "nbconvert_exporter": "python",
   "pygments_lexer": "ipython3",
   "version": "3.12.6"
  }
 },
 "nbformat": 4,
 "nbformat_minor": 5
}
