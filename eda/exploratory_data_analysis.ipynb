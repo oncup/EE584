{
 "cells": [
  {
   "cell_type": "markdown",
   "id": "c0139cc1",
   "metadata": {},
   "source": [
    "# Exploratory Data Analysis (EDA) for ASAP-Review Dataset"
   ]
  },
  {
   "cell_type": "code",
   "execution_count": 1,
   "id": "2b9ba92e",
   "metadata": {},
   "outputs": [
    {
     "name": "stdout",
     "output_type": "stream",
     "text": [
      "Dataset not found. Creating a dummy DataFrame for demonstration.\n"
     ]
    },
    {
     "data": {
      "text/html": [
       "<div>\n",
       "<style scoped>\n",
       "    .dataframe tbody tr th:only-of-type {\n",
       "        vertical-align: middle;\n",
       "    }\n",
       "\n",
       "    .dataframe tbody tr th {\n",
       "        vertical-align: top;\n",
       "    }\n",
       "\n",
       "    .dataframe thead th {\n",
       "        text-align: right;\n",
       "    }\n",
       "</style>\n",
       "<table border=\"1\" class=\"dataframe\">\n",
       "  <thead>\n",
       "    <tr style=\"text-align: right;\">\n",
       "      <th></th>\n",
       "      <th>review_text</th>\n",
       "      <th>Contribution</th>\n",
       "      <th>Motivation</th>\n",
       "      <th>Claims</th>\n",
       "      <th>Support</th>\n",
       "      <th>acceptance</th>\n",
       "    </tr>\n",
       "  </thead>\n",
       "  <tbody>\n",
       "    <tr>\n",
       "      <th>0</th>\n",
       "      <td>This paper proposes a novel method. It is moti...</td>\n",
       "      <td>1</td>\n",
       "      <td>1</td>\n",
       "      <td>1</td>\n",
       "      <td>1</td>\n",
       "      <td>1</td>\n",
       "    </tr>\n",
       "    <tr>\n",
       "      <th>1</th>\n",
       "      <td>A significant contribution. Minor motivation. ...</td>\n",
       "      <td>1</td>\n",
       "      <td>1</td>\n",
       "      <td>1</td>\n",
       "      <td>0</td>\n",
       "      <td>0</td>\n",
       "    </tr>\n",
       "  </tbody>\n",
       "</table>\n",
       "</div>"
      ],
      "text/plain": [
       "                                         review_text  Contribution  \\\n",
       "0  This paper proposes a novel method. It is moti...             1   \n",
       "1  A significant contribution. Minor motivation. ...             1   \n",
       "\n",
       "   Motivation  Claims  Support  acceptance  \n",
       "0           1       1        1           1  \n",
       "1           1       1        0           0  "
      ]
     },
     "execution_count": 1,
     "metadata": {},
     "output_type": "execute_result"
    }
   ],
   "source": [
    "# lib\n",
    "import pandas as pd\n",
    "\n",
    "# Upload dataset\n",
    "try:\n",
    "    df = pd.read_csv('asap_reviews.csv')\n",
    "except FileNotFoundError:\n",
    "    print(\"Dataset not found. Creating a dummy DataFrame for demonstration.\")\n",
    "    data = {\n",
    "        'review_text': [\n",
    "            \"This paper proposes a novel method. It is motivated by previous failures. The main claim is strong. Experiments support the claim.\",\n",
    "            \"A significant contribution. Minor motivation. Weak claims. No experimental support.\"\n",
    "        ],\n",
    "        'Contribution': [1, 1],\n",
    "        'Motivation': [1, 1],\n",
    "        'Claims': [1, 1],\n",
    "        'Support': [1, 0],\n",
    "        'acceptance': [1, 0]\n",
    "    }\n",
    "    df = pd.DataFrame(data)\n",
    "\n",
    "df.head()\n"
   ]
  },
  {
   "cell_type": "markdown",
   "id": "6289feed",
   "metadata": {},
   "source": [
    "## Descriptive Statistics"
   ]
  },
  {
   "cell_type": "code",
   "execution_count": 2,
   "id": "2a63ade8",
   "metadata": {},
   "outputs": [
    {
     "name": "stdout",
     "output_type": "stream",
     "text": [
      "Number of reviews: 2\n",
      "Average review length (words): 15.5\n",
      "Contribution presence rate: 100.00%\n",
      "Motivation presence rate: 100.00%\n",
      "Claims presence rate: 100.00%\n",
      "Support presence rate: 50.00%\n",
      "Acceptance rate: 50.0\n"
     ]
    }
   ],
   "source": [
    "# Number of reviews\n",
    "print(\"Number of reviews:\", len(df))\n",
    "\n",
    "# Average review length\n",
    "avg_len = df['review_text'].apply(lambda x: len(x.split())).mean()\n",
    "print(\"Average review length (words):\", avg_len)\n",
    "\n",
    "# Aspect rate\n",
    "aspects = ['Contribution', 'Motivation', 'Claims', 'Support']\n",
    "for aspect in aspects:\n",
    "    rate = (df[aspect] == 1).mean() * 100\n",
    "    print(f\"{aspect} presence rate: {rate:.2f}%\")\n",
    "\n",
    "# Acceptance rate\n",
    "acceptance_rate = (df['acceptance'] == 1).mean() * 100\n",
    "print(\"Acceptance rate:\", acceptance_rate)\n"
   ]
  },
  {
   "cell_type": "markdown",
   "id": "8396f330",
   "metadata": {},
   "source": [
    "## Profiling Results"
   ]
  },
  {
   "cell_type": "code",
   "execution_count": 3,
   "id": "ea7752fd",
   "metadata": {},
   "outputs": [
    {
     "name": "stdout",
     "output_type": "stream",
     "text": [
      "Acceptance rate when Contribution and Motivation are both present: 50.0\n",
      "No reviews with only Claims present in this dataset.\n"
     ]
    }
   ],
   "source": [
    "\n",
    "both_contrib_motiv = df[(df['Contribution'] == 1) & (df['Motivation'] == 1)]\n",
    "print(\"Acceptance rate when Contribution and Motivation are both present:\", (both_contrib_motiv['acceptance'] == 1).mean() * 100)\n",
    "\n",
    "# only claims\n",
    "only_claims = df[(df['Claims'] == 1) & (df['Contribution'] == 0) & (df['Motivation'] == 0)]\n",
    "if not only_claims.empty:\n",
    "    print(\"Acceptance rate when only Claims are present:\", (only_claims['acceptance'] == 1).mean() * 100)\n",
    "else:\n",
    "    print(\"No reviews with only Claims present in this dataset.\")\n"
   ]
  }
 ],
 "metadata": {
  "kernelspec": {
   "display_name": "Python 3",
   "language": "python",
   "name": "python3"
  },
  "language_info": {
   "codemirror_mode": {
    "name": "ipython",
    "version": 3
   },
   "file_extension": ".py",
   "mimetype": "text/x-python",
   "name": "python",
   "nbconvert_exporter": "python",
   "pygments_lexer": "ipython3",
   "version": "3.12.6"
  }
 },
 "nbformat": 4,
 "nbformat_minor": 5
}
